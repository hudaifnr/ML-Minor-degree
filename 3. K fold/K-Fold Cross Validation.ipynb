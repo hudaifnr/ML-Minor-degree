{
 "cells": [
  {
   "cell_type": "markdown",
   "id": "871b9095",
   "metadata": {},
   "source": [
    "### Importing Libraries"
   ]
  },
  {
   "cell_type": "code",
   "execution_count": 27,
   "id": "510f8064",
   "metadata": {},
   "outputs": [],
   "source": [
    "import pandas as pd\n",
    "import numpy as np\n",
    "import matplotlib.pyplot as plt\n",
    "import matplotlib.axes as ax\n",
    "\n",
    "from sklearn import datasets\n",
    "from sklearn.metrics import mean_squared_error\n",
    "\n",
    "import warnings\n",
    "warnings.filterwarnings(\"ignore\")"
   ]
  },
  {
   "cell_type": "markdown",
   "id": "493d2496",
   "metadata": {},
   "source": [
    "### Loading Data"
   ]
  },
  {
   "cell_type": "code",
   "execution_count": 19,
   "id": "2204325e",
   "metadata": {},
   "outputs": [],
   "source": [
    "from sklearn.datasets import fetch_california_housing\n",
    "data = fetch_california_housing()"
   ]
  },
  {
   "cell_type": "markdown",
   "id": "925c7de4",
   "metadata": {},
   "source": [
    "### Data"
   ]
  },
  {
   "cell_type": "code",
   "execution_count": 20,
   "id": "85ba617a",
   "metadata": {},
   "outputs": [],
   "source": [
    "x = data.data"
   ]
  },
  {
   "cell_type": "code",
   "execution_count": 21,
   "id": "5bac8eae",
   "metadata": {},
   "outputs": [],
   "source": [
    "y = data.target"
   ]
  },
  {
   "cell_type": "code",
   "execution_count": 22,
   "id": "0a6af216",
   "metadata": {},
   "outputs": [
    {
     "data": {
      "text/plain": [
       "['MedInc',\n",
       " 'HouseAge',\n",
       " 'AveRooms',\n",
       " 'AveBedrms',\n",
       " 'Population',\n",
       " 'AveOccup',\n",
       " 'Latitude',\n",
       " 'Longitude']"
      ]
     },
     "execution_count": 22,
     "metadata": {},
     "output_type": "execute_result"
    }
   ],
   "source": [
    "features = data.feature_names\n",
    "features"
   ]
  },
  {
   "cell_type": "code",
   "execution_count": 23,
   "id": "190fd99a",
   "metadata": {},
   "outputs": [],
   "source": [
    "from sklearn.model_selection import train_test_split\n",
    "x_train, x_test, y_train, y_test = train_test_split(x, y, test_size = 0.2)"
   ]
  },
  {
   "cell_type": "code",
   "execution_count": 24,
   "id": "aa915461",
   "metadata": {},
   "outputs": [
    {
     "name": "stdout",
     "output_type": "stream",
     "text": [
      "(16512, 8) (16512,)\n",
      "(4128, 8) (4128,)\n"
     ]
    }
   ],
   "source": [
    "print (x_train.shape, y_train.shape)\n",
    "print (x_test.shape, y_test.shape)"
   ]
  },
  {
   "cell_type": "markdown",
   "id": "ba466bc5",
   "metadata": {},
   "source": [
    "## <font color = \"green\">K-Fold Cross validation</font>"
   ]
  },
  {
   "cell_type": "code",
   "execution_count": 25,
   "id": "e6fdbee4",
   "metadata": {},
   "outputs": [
    {
     "name": "stdout",
     "output_type": "stream",
     "text": [
      "Train - \n",
      " [ 4128  4129  4130 ... 20637 20638 20639] \n",
      "Test - \n",
      " [   0    1    2 ... 4125 4126 4127]\n",
      "=======\n",
      "\n",
      "Train - \n",
      " [    0     1     2 ... 20637 20638 20639] \n",
      "Test - \n",
      " [4128 4129 4130 ... 8253 8254 8255]\n",
      "=======\n",
      "\n",
      "Train - \n",
      " [    0     1     2 ... 20637 20638 20639] \n",
      "Test - \n",
      " [ 8256  8257  8258 ... 12381 12382 12383]\n",
      "=======\n",
      "\n",
      "Train - \n",
      " [    0     1     2 ... 20637 20638 20639] \n",
      "Test - \n",
      " [12384 12385 12386 ... 16509 16510 16511]\n",
      "=======\n",
      "\n",
      "Train - \n",
      " [    0     1     2 ... 16509 16510 16511] \n",
      "Test - \n",
      " [16512 16513 16514 ... 20637 20638 20639]\n",
      "=======\n",
      "\n"
     ]
    }
   ],
   "source": [
    "from sklearn.model_selection import KFold\n",
    "kfold = KFold(n_splits=5, shuffle=False)\n",
    "\n",
    "for train_index, test_index in kfold.split(x):\n",
    "    print(\"Train - \\n\", train_index, \"\\nTest - \\n\", test_index)\n",
    "    print(\"=======\\n\")\n",
    "# kfold.split(x)"
   ]
  },
  {
   "cell_type": "code",
   "execution_count": null,
   "id": "d1d0ca10",
   "metadata": {},
   "outputs": [
    {
     "name": "stdout",
     "output_type": "stream",
     "text": [
      "Results for n_estimator:  100\n",
      "[0.5155091839024172, 0.3482034958620736, 0.3713576249935928, 0.44237418531342276, 0.4626223882242113]\n",
      "Average Error =  0.4280133756591436\n",
      "Results for n_estimator:  200\n",
      "[0.5171896156322112, 0.3436246199400656, 0.37073044243132525, 0.4481797421966189, 0.4650227135870203]\n",
      "Average Error =  0.4289494267574483\n"
     ]
    }
   ],
   "source": [
    "rf1= RandomForestRegressor()\n",
    "\n",
    "n_est = [100, 200, 500]\n",
    "\n",
    "for n_estimator in n_est:       \n",
    "    error = []\n",
    "    for train_index, test_index in kfold.split(x):\n",
    "        \n",
    "        x_train, x_test = x[train_index], x[test_index]\n",
    "        y_train, y_test = y[train_index], y[test_index]\n",
    "    \n",
    "        rf1 = RandomForestRegressor(n_estimator)\n",
    "\n",
    "        rf1 = rf1.fit(x_train, y_train)\n",
    "\n",
    "        prediction = rf1.predict(x_test)\n",
    "        \n",
    "        error.append(mean_squared_error(y_test, prediction))\n",
    "    print(\"Results for n_estimator: \", n_estimator)\n",
    "    print(error)\n",
    "    print(\"Average Error = \", sum(error)/len(error))"
   ]
  },
  {
   "cell_type": "code",
   "execution_count": null,
   "id": "13fed8b5",
   "metadata": {},
   "outputs": [],
   "source": [
    "error"
   ]
  }
 ],
 "metadata": {
  "kernelspec": {
   "display_name": "Python 3 (ipykernel)",
   "language": "python",
   "name": "python3"
  },
  "language_info": {
   "codemirror_mode": {
    "name": "ipython",
    "version": 3
   },
   "file_extension": ".py",
   "mimetype": "text/x-python",
   "name": "python",
   "nbconvert_exporter": "python",
   "pygments_lexer": "ipython3",
   "version": "3.11.7"
  }
 },
 "nbformat": 4,
 "nbformat_minor": 5
}
