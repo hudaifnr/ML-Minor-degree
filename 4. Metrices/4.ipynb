{
 "cells": [
  {
   "cell_type": "code",
   "execution_count": 9,
   "id": "440cde76-79ec-4e50-8907-3f8617d3b38f",
   "metadata": {},
   "outputs": [
    {
     "name": "stdout",
     "output_type": "stream",
     "text": [
      "   0  1  2\n",
      "0  1  2  3\n",
      "1  4  5  6\n",
      "2  7  8  9\n"
     ]
    }
   ],
   "source": [
    "import pandas as pd\n",
    "\n",
    "# Creating a matrix from a 2D array\n",
    "matrix_data = [\n",
    "    [1, 2, 3],\n",
    "    [4, 5, 6],\n",
    "    [7, 8, 9]\n",
    "]\n",
    "\n",
    "matrix_df = pd.DataFrame(matrix_data)\n",
    "print(matrix_df)\n"
   ]
  },
  {
   "cell_type": "code",
   "execution_count": 6,
   "id": "b595c8ef-6dee-401f-911c-4517ad2e4b6c",
   "metadata": {},
   "outputs": [
    {
     "name": "stdout",
     "output_type": "stream",
     "text": [
      "   0  1  2\n",
      "0  1  2  3\n",
      "1  4  5  6\n",
      "2  7  8  9\n"
     ]
    }
   ],
   "source": [
    "matrix_df = pd.DataFrame(matrix_data)\n",
    "print(matrix_df)"
   ]
  },
  {
   "cell_type": "code",
   "execution_count": 7,
   "id": "cc8c6a02-fd62-465a-9a73-a6909d078e2d",
   "metadata": {},
   "outputs": [
    {
     "name": "stdout",
     "output_type": "stream",
     "text": [
      "Element at position (0, 0): 1\n",
      "First row: 0    1\n",
      "1    2\n",
      "2    3\n",
      "Name: 0, dtype: int64\n",
      "First column: 0    1\n",
      "1    4\n",
      "2    7\n",
      "Name: 0, dtype: int64\n"
     ]
    }
   ],
   "source": [
    "# 1st element(0,0)\n",
    "element = matrix_df.iloc[0, 0]\n",
    "print(\"Element at position (0, 0):\", element)\n",
    "\n",
    "# row\n",
    "row = matrix_df.iloc[0]\n",
    "print(\"First row:\", row)\n",
    "\n",
    "# column\n",
    "column = matrix_df.iloc[:, 0]\n",
    "print(\"First column:\", column)\n"
   ]
  },
  {
   "cell_type": "code",
   "execution_count": 10,
   "id": "36adca2a-def4-40c4-ae52-75ae34ffcb86",
   "metadata": {},
   "outputs": [
    {
     "name": "stdout",
     "output_type": "stream",
     "text": [
      "Transposed matrix:\n",
      "   0  1  2\n",
      "0  1  4  7\n",
      "1  2  5  8\n",
      "2  3  6  9\n",
      "Matrix sum:\n",
      "    0   1   2\n",
      "0   2   4   6\n",
      "1   8  10  12\n",
      "2  14  16  18\n",
      "Matrix product:\n",
      "     0    1    2\n",
      "0   30   36   42\n",
      "1   66   81   96\n",
      "2  102  126  150\n"
     ]
    }
   ],
   "source": [
    "# Transpose\n",
    "transposed_matrix = matrix_df.T\n",
    "print(\"Transposed matrix:\")\n",
    "print(transposed_matrix)\n",
    "\n",
    "# sum of the matrix\n",
    "matrix_sum = matrix_df + matrix_df\n",
    "print(\"Matrix sum:\")\n",
    "print(matrix_sum)\n",
    "\n",
    "# multiplication\n",
    "matrix_product = matrix_df.dot(matrix_df)\n",
    "print(\"Matrix product:\")\n",
    "print(matrix_product)\n"
   ]
  },
  {
   "cell_type": "markdown",
   "id": "ea90293d-721a-4b98-83a7-e6a47c9b4b80",
   "metadata": {},
   "source": [
    "## Numpy"
   ]
  },
  {
   "cell_type": "code",
   "execution_count": 11,
   "id": "cdc4c081-3e7c-472c-9285-a95e91640617",
   "metadata": {},
   "outputs": [
    {
     "name": "stdout",
     "output_type": "stream",
     "text": [
      "[[1 2 3]\n",
      " [4 5 6]\n",
      " [7 8 9]]\n"
     ]
    }
   ],
   "source": [
    "import numpy as np\n",
    "\n",
    "# Creating a matrix from a 2D array\n",
    "matrix_data = np.array([\n",
    "    [1, 2, 3],\n",
    "    [4, 5, 6],\n",
    "    [7, 8, 9]\n",
    "])\n",
    "\n",
    "print(matrix_data)"
   ]
  },
  {
   "cell_type": "code",
   "execution_count": 12,
   "id": "5848ac79-9a2b-4704-8c46-463e2eb6eafa",
   "metadata": {},
   "outputs": [
    {
     "name": "stdout",
     "output_type": "stream",
     "text": [
      "Element at position (0, 0): 1\n",
      "First row: [1 2 3]\n",
      "First column: [1 4 7]\n"
     ]
    }
   ],
   "source": [
    "# 1st element(0,0)\n",
    "element = matrix_data[0, 0]\n",
    "print(\"Element at position (0, 0):\", element)\n",
    "\n",
    "# row\n",
    "row = matrix_data[0]\n",
    "print(\"First row:\", row)\n",
    "\n",
    "# colum\n",
    "column = matrix_data[:, 0]\n",
    "print(\"First column:\", column)"
   ]
  },
  {
   "cell_type": "code",
   "execution_count": 23,
   "id": "a6591b3c-38f9-4632-84bc-3e6338f0cad7",
   "metadata": {},
   "outputs": [
    {
     "name": "stdout",
     "output_type": "stream",
     "text": [
      "Transposed matrix:\n",
      "[[1 4 7]\n",
      " [2 5 8]\n",
      " [3 6 9]]\n",
      "Matrix sum:\n",
      "[[ 2  4  6]\n",
      " [ 8 10 12]\n",
      " [14 16 18]]\n",
      "Matrix product:\n",
      "[[ 30  36  42]\n",
      " [ 66  81  96]\n",
      " [102 126 150]]\n",
      "Inverse matrix:\n",
      "[[ 3.15251974e+15 -6.30503948e+15  3.15251974e+15]\n",
      " [-6.30503948e+15  1.26100790e+16 -6.30503948e+15]\n",
      " [ 3.15251974e+15 -6.30503948e+15  3.15251974e+15]]\n",
      "Determinant of the matrix: -9.51619735392994e-16\n",
      "Eigenvalues: [ 1.61168440e+01 -1.11684397e+00 -3.38433605e-16]\n",
      "Eigenvectors: [[-0.23197069 -0.78583024  0.40824829]\n",
      " [-0.52532209 -0.08675134 -0.81649658]\n",
      " [-0.8186735   0.61232756  0.40824829]]\n"
     ]
    }
   ],
   "source": [
    "# Transpose\n",
    "transposed_matrix = matrix_data.T\n",
    "print(\"Transposed matrix:\")\n",
    "print(transposed_matrix)\n",
    "\n",
    "# Addition\n",
    "matrix_sum = matrix_data + matrix_data\n",
    "print(\"Matrix sum:\")\n",
    "print(matrix_sum)\n",
    "\n",
    "# Multiplication\n",
    "matrix_product = np.dot(matrix_data, matrix_data)\n",
    "print(\"Matrix product:\")\n",
    "print(matrix_product)\n",
    "\n",
    "# Matrix inversion\n",
    "matrix_inverse = np.linalg.inv(matrix_data)\n",
    "print(\"Inverse matrix:\")\n",
    "print(matrix_inverse)\n",
    "\n",
    "# Determinant \n",
    "determinant = np.linalg.det(matrix_data)\n",
    "print(\"Determinant of the matrix:\", determinant)\n",
    "\n",
    "# Eigenvalues and eigenvectors\n",
    "eigenvalues, eigenvectors = np.linalg.eig(matrix_data)\n",
    "print(\"Eigenvalues:\", eigenvalues)\n",
    "print(\"Eigenvectors:\", eigenvectors)"
   ]
  }
 ],
 "metadata": {
  "kernelspec": {
   "display_name": "Python 3 (ipykernel)",
   "language": "python",
   "name": "python3"
  },
  "language_info": {
   "codemirror_mode": {
    "name": "ipython",
    "version": 3
   },
   "file_extension": ".py",
   "mimetype": "text/x-python",
   "name": "python",
   "nbconvert_exporter": "python",
   "pygments_lexer": "ipython3",
   "version": "3.11.7"
  }
 },
 "nbformat": 4,
 "nbformat_minor": 5
}
