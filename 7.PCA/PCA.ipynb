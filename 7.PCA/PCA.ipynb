{
 "cells": [
  {
   "cell_type": "code",
   "execution_count": 1,
   "id": "77dbc3b5",
   "metadata": {},
   "outputs": [],
   "source": [
    "import numpy as np\n",
    "import pandas as pd\n",
    "\n",
    "import matplotlib.pyplot as plt\n",
    "import seaborn as sns"
   ]
  },
  {
   "cell_type": "code",
   "execution_count": 2,
   "id": "0d06fb6e",
   "metadata": {},
   "outputs": [],
   "source": [
    "data=pd.read_csv(\"global_heat_index.csv\")"
   ]
  },
  {
   "cell_type": "code",
   "execution_count": 3,
   "id": "b9e16683",
   "metadata": {},
   "outputs": [
    {
     "data": {
      "text/html": [
       "<div>\n",
       "<style scoped>\n",
       "    .dataframe tbody tr th:only-of-type {\n",
       "        vertical-align: middle;\n",
       "    }\n",
       "\n",
       "    .dataframe tbody tr th {\n",
       "        vertical-align: top;\n",
       "    }\n",
       "\n",
       "    .dataframe thead th {\n",
       "        text-align: right;\n",
       "    }\n",
       "</style>\n",
       "<table border=\"1\" class=\"dataframe\">\n",
       "  <thead>\n",
       "    <tr style=\"text-align: right;\">\n",
       "      <th></th>\n",
       "      <th>Year</th>\n",
       "      <th>Month</th>\n",
       "      <th>Day</th>\n",
       "      <th>Hour</th>\n",
       "      <th>Dew Point</th>\n",
       "      <th>Temperature</th>\n",
       "      <th>Pressure</th>\n",
       "      <th>Relative Humidity</th>\n",
       "      <th>Wind Direction</th>\n",
       "      <th>Wind Speed</th>\n",
       "      <th>Solar Radiation (GHI)</th>\n",
       "    </tr>\n",
       "  </thead>\n",
       "  <tbody>\n",
       "    <tr>\n",
       "      <th>0</th>\n",
       "      <td>2011</td>\n",
       "      <td>1</td>\n",
       "      <td>1</td>\n",
       "      <td>0</td>\n",
       "      <td>8</td>\n",
       "      <td>13.522659</td>\n",
       "      <td>986.761841</td>\n",
       "      <td>72.295858</td>\n",
       "      <td>37.288387</td>\n",
       "      <td>3.011042</td>\n",
       "      <td>0</td>\n",
       "    </tr>\n",
       "    <tr>\n",
       "      <th>1</th>\n",
       "      <td>2011</td>\n",
       "      <td>1</td>\n",
       "      <td>1</td>\n",
       "      <td>1</td>\n",
       "      <td>8</td>\n",
       "      <td>12.835814</td>\n",
       "      <td>986.441406</td>\n",
       "      <td>75.376186</td>\n",
       "      <td>37.686718</td>\n",
       "      <td>3.091243</td>\n",
       "      <td>0</td>\n",
       "    </tr>\n",
       "    <tr>\n",
       "      <th>2</th>\n",
       "      <td>2011</td>\n",
       "      <td>1</td>\n",
       "      <td>1</td>\n",
       "      <td>2</td>\n",
       "      <td>8</td>\n",
       "      <td>12.198058</td>\n",
       "      <td>985.736511</td>\n",
       "      <td>78.405198</td>\n",
       "      <td>35.053905</td>\n",
       "      <td>3.007649</td>\n",
       "      <td>0</td>\n",
       "    </tr>\n",
       "    <tr>\n",
       "      <th>3</th>\n",
       "      <td>2011</td>\n",
       "      <td>1</td>\n",
       "      <td>1</td>\n",
       "      <td>3</td>\n",
       "      <td>8</td>\n",
       "      <td>11.583500</td>\n",
       "      <td>985.525696</td>\n",
       "      <td>81.042980</td>\n",
       "      <td>30.135216</td>\n",
       "      <td>2.926715</td>\n",
       "      <td>0</td>\n",
       "    </tr>\n",
       "    <tr>\n",
       "      <th>4</th>\n",
       "      <td>2011</td>\n",
       "      <td>1</td>\n",
       "      <td>1</td>\n",
       "      <td>4</td>\n",
       "      <td>8</td>\n",
       "      <td>11.029578</td>\n",
       "      <td>985.661926</td>\n",
       "      <td>82.548508</td>\n",
       "      <td>24.402969</td>\n",
       "      <td>2.915177</td>\n",
       "      <td>0</td>\n",
       "    </tr>\n",
       "  </tbody>\n",
       "</table>\n",
       "</div>"
      ],
      "text/plain": [
       "   Year  Month  Day  Hour  Dew Point  Temperature    Pressure  \\\n",
       "0  2011      1    1     0          8    13.522659  986.761841   \n",
       "1  2011      1    1     1          8    12.835814  986.441406   \n",
       "2  2011      1    1     2          8    12.198058  985.736511   \n",
       "3  2011      1    1     3          8    11.583500  985.525696   \n",
       "4  2011      1    1     4          8    11.029578  985.661926   \n",
       "\n",
       "   Relative Humidity  Wind Direction  Wind Speed  Solar Radiation (GHI)  \n",
       "0          72.295858       37.288387    3.011042                      0  \n",
       "1          75.376186       37.686718    3.091243                      0  \n",
       "2          78.405198       35.053905    3.007649                      0  \n",
       "3          81.042980       30.135216    2.926715                      0  \n",
       "4          82.548508       24.402969    2.915177                      0  "
      ]
     },
     "execution_count": 3,
     "metadata": {},
     "output_type": "execute_result"
    }
   ],
   "source": [
    "data.head(5)"
   ]
  },
  {
   "cell_type": "code",
   "execution_count": 4,
   "id": "f7707319",
   "metadata": {},
   "outputs": [
    {
     "name": "stdout",
     "output_type": "stream",
     "text": [
      "<class 'pandas.core.frame.DataFrame'>\n",
      "RangeIndex: 17520 entries, 0 to 17519\n",
      "Data columns (total 11 columns):\n",
      " #   Column                 Non-Null Count  Dtype  \n",
      "---  ------                 --------------  -----  \n",
      " 0   Year                   17520 non-null  int64  \n",
      " 1   Month                  17520 non-null  int64  \n",
      " 2   Day                    17520 non-null  int64  \n",
      " 3   Hour                   17520 non-null  int64  \n",
      " 4   Dew Point              17520 non-null  int64  \n",
      " 5   Temperature            17520 non-null  float64\n",
      " 6   Pressure               17520 non-null  float64\n",
      " 7   Relative Humidity      17520 non-null  float64\n",
      " 8   Wind Direction         17520 non-null  float64\n",
      " 9   Wind Speed             17520 non-null  float64\n",
      " 10  Solar Radiation (GHI)  17520 non-null  int64  \n",
      "dtypes: float64(5), int64(6)\n",
      "memory usage: 1.5 MB\n"
     ]
    }
   ],
   "source": [
    "data.info()"
   ]
  },
  {
   "cell_type": "markdown",
   "id": "9647b6c2",
   "metadata": {},
   "source": [
    "## Cleaning the data"
   ]
  },
  {
   "cell_type": "code",
   "execution_count": 5,
   "id": "1df697b6",
   "metadata": {},
   "outputs": [
    {
     "name": "stdout",
     "output_type": "stream",
     "text": [
      "Cleaning Data from 12.00 to 5.59 am\n"
     ]
    },
    {
     "data": {
      "text/html": [
       "<div>\n",
       "<style scoped>\n",
       "    .dataframe tbody tr th:only-of-type {\n",
       "        vertical-align: middle;\n",
       "    }\n",
       "\n",
       "    .dataframe tbody tr th {\n",
       "        vertical-align: top;\n",
       "    }\n",
       "\n",
       "    .dataframe thead th {\n",
       "        text-align: right;\n",
       "    }\n",
       "</style>\n",
       "<table border=\"1\" class=\"dataframe\">\n",
       "  <thead>\n",
       "    <tr style=\"text-align: right;\">\n",
       "      <th></th>\n",
       "      <th>Year</th>\n",
       "      <th>Month</th>\n",
       "      <th>Day</th>\n",
       "      <th>Hour</th>\n",
       "      <th>Dew Point</th>\n",
       "      <th>Temperature</th>\n",
       "      <th>Pressure</th>\n",
       "      <th>Relative Humidity</th>\n",
       "      <th>Wind Direction</th>\n",
       "      <th>Wind Speed</th>\n",
       "      <th>Solar Radiation (GHI)</th>\n",
       "    </tr>\n",
       "  </thead>\n",
       "  <tbody>\n",
       "    <tr>\n",
       "      <th>0</th>\n",
       "      <td>2011</td>\n",
       "      <td>1</td>\n",
       "      <td>1</td>\n",
       "      <td>0</td>\n",
       "      <td>8</td>\n",
       "      <td>13.522659</td>\n",
       "      <td>986.761841</td>\n",
       "      <td>72.295858</td>\n",
       "      <td>37.288387</td>\n",
       "      <td>3.011042</td>\n",
       "      <td>0</td>\n",
       "    </tr>\n",
       "    <tr>\n",
       "      <th>1</th>\n",
       "      <td>2011</td>\n",
       "      <td>1</td>\n",
       "      <td>1</td>\n",
       "      <td>1</td>\n",
       "      <td>8</td>\n",
       "      <td>12.835814</td>\n",
       "      <td>986.441406</td>\n",
       "      <td>75.376186</td>\n",
       "      <td>37.686718</td>\n",
       "      <td>3.091243</td>\n",
       "      <td>0</td>\n",
       "    </tr>\n",
       "    <tr>\n",
       "      <th>2</th>\n",
       "      <td>2011</td>\n",
       "      <td>1</td>\n",
       "      <td>1</td>\n",
       "      <td>2</td>\n",
       "      <td>8</td>\n",
       "      <td>12.198058</td>\n",
       "      <td>985.736511</td>\n",
       "      <td>78.405198</td>\n",
       "      <td>35.053905</td>\n",
       "      <td>3.007649</td>\n",
       "      <td>0</td>\n",
       "    </tr>\n",
       "    <tr>\n",
       "      <th>3</th>\n",
       "      <td>2011</td>\n",
       "      <td>1</td>\n",
       "      <td>1</td>\n",
       "      <td>3</td>\n",
       "      <td>8</td>\n",
       "      <td>11.583500</td>\n",
       "      <td>985.525696</td>\n",
       "      <td>81.042980</td>\n",
       "      <td>30.135216</td>\n",
       "      <td>2.926715</td>\n",
       "      <td>0</td>\n",
       "    </tr>\n",
       "    <tr>\n",
       "      <th>4</th>\n",
       "      <td>2011</td>\n",
       "      <td>1</td>\n",
       "      <td>1</td>\n",
       "      <td>4</td>\n",
       "      <td>8</td>\n",
       "      <td>11.029578</td>\n",
       "      <td>985.661926</td>\n",
       "      <td>82.548508</td>\n",
       "      <td>24.402969</td>\n",
       "      <td>2.915177</td>\n",
       "      <td>0</td>\n",
       "    </tr>\n",
       "    <tr>\n",
       "      <th>5</th>\n",
       "      <td>2011</td>\n",
       "      <td>1</td>\n",
       "      <td>1</td>\n",
       "      <td>5</td>\n",
       "      <td>1</td>\n",
       "      <td>8.098655</td>\n",
       "      <td>985.723206</td>\n",
       "      <td>65.278494</td>\n",
       "      <td>89.290062</td>\n",
       "      <td>1.937899</td>\n",
       "      <td>0</td>\n",
       "    </tr>\n",
       "    <tr>\n",
       "      <th>24</th>\n",
       "      <td>2011</td>\n",
       "      <td>1</td>\n",
       "      <td>2</td>\n",
       "      <td>0</td>\n",
       "      <td>3</td>\n",
       "      <td>10.231350</td>\n",
       "      <td>984.838196</td>\n",
       "      <td>61.345492</td>\n",
       "      <td>79.954536</td>\n",
       "      <td>2.360912</td>\n",
       "      <td>0</td>\n",
       "    </tr>\n",
       "    <tr>\n",
       "      <th>25</th>\n",
       "      <td>2011</td>\n",
       "      <td>1</td>\n",
       "      <td>2</td>\n",
       "      <td>1</td>\n",
       "      <td>3</td>\n",
       "      <td>9.653407</td>\n",
       "      <td>984.457092</td>\n",
       "      <td>63.566375</td>\n",
       "      <td>87.481873</td>\n",
       "      <td>2.193934</td>\n",
       "      <td>0</td>\n",
       "    </tr>\n",
       "    <tr>\n",
       "      <th>26</th>\n",
       "      <td>2011</td>\n",
       "      <td>1</td>\n",
       "      <td>2</td>\n",
       "      <td>2</td>\n",
       "      <td>3</td>\n",
       "      <td>9.165823</td>\n",
       "      <td>984.032227</td>\n",
       "      <td>66.509376</td>\n",
       "      <td>90.634872</td>\n",
       "      <td>1.904846</td>\n",
       "      <td>0</td>\n",
       "    </tr>\n",
       "    <tr>\n",
       "      <th>27</th>\n",
       "      <td>2011</td>\n",
       "      <td>1</td>\n",
       "      <td>2</td>\n",
       "      <td>3</td>\n",
       "      <td>3</td>\n",
       "      <td>8.773836</td>\n",
       "      <td>984.161560</td>\n",
       "      <td>69.923065</td>\n",
       "      <td>90.924843</td>\n",
       "      <td>1.597840</td>\n",
       "      <td>0</td>\n",
       "    </tr>\n",
       "  </tbody>\n",
       "</table>\n",
       "</div>"
      ],
      "text/plain": [
       "    Year  Month  Day  Hour  Dew Point  Temperature    Pressure  \\\n",
       "0   2011      1    1     0          8    13.522659  986.761841   \n",
       "1   2011      1    1     1          8    12.835814  986.441406   \n",
       "2   2011      1    1     2          8    12.198058  985.736511   \n",
       "3   2011      1    1     3          8    11.583500  985.525696   \n",
       "4   2011      1    1     4          8    11.029578  985.661926   \n",
       "5   2011      1    1     5          1     8.098655  985.723206   \n",
       "24  2011      1    2     0          3    10.231350  984.838196   \n",
       "25  2011      1    2     1          3     9.653407  984.457092   \n",
       "26  2011      1    2     2          3     9.165823  984.032227   \n",
       "27  2011      1    2     3          3     8.773836  984.161560   \n",
       "\n",
       "    Relative Humidity  Wind Direction  Wind Speed  Solar Radiation (GHI)  \n",
       "0           72.295858       37.288387    3.011042                      0  \n",
       "1           75.376186       37.686718    3.091243                      0  \n",
       "2           78.405198       35.053905    3.007649                      0  \n",
       "3           81.042980       30.135216    2.926715                      0  \n",
       "4           82.548508       24.402969    2.915177                      0  \n",
       "5           65.278494       89.290062    1.937899                      0  \n",
       "24          61.345492       79.954536    2.360912                      0  \n",
       "25          63.566375       87.481873    2.193934                      0  \n",
       "26          66.509376       90.634872    1.904846                      0  \n",
       "27          69.923065       90.924843    1.597840                      0  "
      ]
     },
     "execution_count": 5,
     "metadata": {},
     "output_type": "execute_result"
    }
   ],
   "source": [
    "clean1=data[data[\"Hour\"]<6]\n",
    "clean2=data[data[\"Hour\"]>18]\n",
    "\n",
    "print(\"Cleaning Data from 12.00 to 5.59 am\")\n",
    "clean1.head(10)"
   ]
  },
  {
   "cell_type": "code",
   "execution_count": 6,
   "id": "1fe0e6fa",
   "metadata": {},
   "outputs": [
    {
     "name": "stdout",
     "output_type": "stream",
     "text": [
      "Cleaning Data from 18.00 to 12.00 am\n"
     ]
    },
    {
     "data": {
      "text/html": [
       "<div>\n",
       "<style scoped>\n",
       "    .dataframe tbody tr th:only-of-type {\n",
       "        vertical-align: middle;\n",
       "    }\n",
       "\n",
       "    .dataframe tbody tr th {\n",
       "        vertical-align: top;\n",
       "    }\n",
       "\n",
       "    .dataframe thead th {\n",
       "        text-align: right;\n",
       "    }\n",
       "</style>\n",
       "<table border=\"1\" class=\"dataframe\">\n",
       "  <thead>\n",
       "    <tr style=\"text-align: right;\">\n",
       "      <th></th>\n",
       "      <th>Year</th>\n",
       "      <th>Month</th>\n",
       "      <th>Day</th>\n",
       "      <th>Hour</th>\n",
       "      <th>Dew Point</th>\n",
       "      <th>Temperature</th>\n",
       "      <th>Pressure</th>\n",
       "      <th>Relative Humidity</th>\n",
       "      <th>Wind Direction</th>\n",
       "      <th>Wind Speed</th>\n",
       "      <th>Solar Radiation (GHI)</th>\n",
       "    </tr>\n",
       "  </thead>\n",
       "  <tbody>\n",
       "    <tr>\n",
       "      <th>19</th>\n",
       "      <td>2011</td>\n",
       "      <td>1</td>\n",
       "      <td>1</td>\n",
       "      <td>19</td>\n",
       "      <td>4</td>\n",
       "      <td>13.915211</td>\n",
       "      <td>987.175781</td>\n",
       "      <td>52.122064</td>\n",
       "      <td>38.189991</td>\n",
       "      <td>2.709682</td>\n",
       "      <td>0</td>\n",
       "    </tr>\n",
       "    <tr>\n",
       "      <th>20</th>\n",
       "      <td>2011</td>\n",
       "      <td>1</td>\n",
       "      <td>1</td>\n",
       "      <td>20</td>\n",
       "      <td>3</td>\n",
       "      <td>13.106395</td>\n",
       "      <td>987.245666</td>\n",
       "      <td>53.782549</td>\n",
       "      <td>45.614468</td>\n",
       "      <td>2.713746</td>\n",
       "      <td>0</td>\n",
       "    </tr>\n",
       "    <tr>\n",
       "      <th>21</th>\n",
       "      <td>2011</td>\n",
       "      <td>1</td>\n",
       "      <td>1</td>\n",
       "      <td>21</td>\n",
       "      <td>3</td>\n",
       "      <td>12.326217</td>\n",
       "      <td>986.971375</td>\n",
       "      <td>55.613451</td>\n",
       "      <td>53.939449</td>\n",
       "      <td>2.701125</td>\n",
       "      <td>0</td>\n",
       "    </tr>\n",
       "    <tr>\n",
       "      <th>22</th>\n",
       "      <td>2011</td>\n",
       "      <td>1</td>\n",
       "      <td>1</td>\n",
       "      <td>22</td>\n",
       "      <td>3</td>\n",
       "      <td>11.570982</td>\n",
       "      <td>986.042419</td>\n",
       "      <td>57.458358</td>\n",
       "      <td>62.491528</td>\n",
       "      <td>2.639709</td>\n",
       "      <td>0</td>\n",
       "    </tr>\n",
       "    <tr>\n",
       "      <th>23</th>\n",
       "      <td>2011</td>\n",
       "      <td>1</td>\n",
       "      <td>1</td>\n",
       "      <td>23</td>\n",
       "      <td>3</td>\n",
       "      <td>10.869849</td>\n",
       "      <td>985.439819</td>\n",
       "      <td>59.446614</td>\n",
       "      <td>71.250389</td>\n",
       "      <td>2.511646</td>\n",
       "      <td>0</td>\n",
       "    </tr>\n",
       "    <tr>\n",
       "      <th>43</th>\n",
       "      <td>2011</td>\n",
       "      <td>1</td>\n",
       "      <td>2</td>\n",
       "      <td>19</td>\n",
       "      <td>5</td>\n",
       "      <td>14.152280</td>\n",
       "      <td>987.563416</td>\n",
       "      <td>54.899280</td>\n",
       "      <td>64.419899</td>\n",
       "      <td>2.399542</td>\n",
       "      <td>0</td>\n",
       "    </tr>\n",
       "    <tr>\n",
       "      <th>44</th>\n",
       "      <td>2011</td>\n",
       "      <td>1</td>\n",
       "      <td>2</td>\n",
       "      <td>20</td>\n",
       "      <td>4</td>\n",
       "      <td>13.421063</td>\n",
       "      <td>987.949341</td>\n",
       "      <td>55.893813</td>\n",
       "      <td>73.117203</td>\n",
       "      <td>2.673051</td>\n",
       "      <td>0</td>\n",
       "    </tr>\n",
       "    <tr>\n",
       "      <th>45</th>\n",
       "      <td>2011</td>\n",
       "      <td>1</td>\n",
       "      <td>2</td>\n",
       "      <td>21</td>\n",
       "      <td>4</td>\n",
       "      <td>12.687589</td>\n",
       "      <td>987.704529</td>\n",
       "      <td>57.250441</td>\n",
       "      <td>81.467941</td>\n",
       "      <td>2.940782</td>\n",
       "      <td>0</td>\n",
       "    </tr>\n",
       "    <tr>\n",
       "      <th>46</th>\n",
       "      <td>2011</td>\n",
       "      <td>1</td>\n",
       "      <td>2</td>\n",
       "      <td>22</td>\n",
       "      <td>4</td>\n",
       "      <td>11.969086</td>\n",
       "      <td>987.413086</td>\n",
       "      <td>58.991594</td>\n",
       "      <td>89.379547</td>\n",
       "      <td>3.099676</td>\n",
       "      <td>0</td>\n",
       "    </tr>\n",
       "    <tr>\n",
       "      <th>47</th>\n",
       "      <td>2011</td>\n",
       "      <td>1</td>\n",
       "      <td>2</td>\n",
       "      <td>23</td>\n",
       "      <td>4</td>\n",
       "      <td>11.248868</td>\n",
       "      <td>986.698791</td>\n",
       "      <td>61.125686</td>\n",
       "      <td>96.687325</td>\n",
       "      <td>3.158645</td>\n",
       "      <td>0</td>\n",
       "    </tr>\n",
       "  </tbody>\n",
       "</table>\n",
       "</div>"
      ],
      "text/plain": [
       "    Year  Month  Day  Hour  Dew Point  Temperature    Pressure  \\\n",
       "19  2011      1    1    19          4    13.915211  987.175781   \n",
       "20  2011      1    1    20          3    13.106395  987.245666   \n",
       "21  2011      1    1    21          3    12.326217  986.971375   \n",
       "22  2011      1    1    22          3    11.570982  986.042419   \n",
       "23  2011      1    1    23          3    10.869849  985.439819   \n",
       "43  2011      1    2    19          5    14.152280  987.563416   \n",
       "44  2011      1    2    20          4    13.421063  987.949341   \n",
       "45  2011      1    2    21          4    12.687589  987.704529   \n",
       "46  2011      1    2    22          4    11.969086  987.413086   \n",
       "47  2011      1    2    23          4    11.248868  986.698791   \n",
       "\n",
       "    Relative Humidity  Wind Direction  Wind Speed  Solar Radiation (GHI)  \n",
       "19          52.122064       38.189991    2.709682                      0  \n",
       "20          53.782549       45.614468    2.713746                      0  \n",
       "21          55.613451       53.939449    2.701125                      0  \n",
       "22          57.458358       62.491528    2.639709                      0  \n",
       "23          59.446614       71.250389    2.511646                      0  \n",
       "43          54.899280       64.419899    2.399542                      0  \n",
       "44          55.893813       73.117203    2.673051                      0  \n",
       "45          57.250441       81.467941    2.940782                      0  \n",
       "46          58.991594       89.379547    3.099676                      0  \n",
       "47          61.125686       96.687325    3.158645                      0  "
      ]
     },
     "execution_count": 6,
     "metadata": {},
     "output_type": "execute_result"
    }
   ],
   "source": [
    "print(\"Cleaning Data from 18.00 to 12.00 am\")\n",
    "clean2.head(10)"
   ]
  },
  {
   "cell_type": "code",
   "execution_count": 7,
   "id": "d474670a",
   "metadata": {},
   "outputs": [],
   "source": [
    "data = data.drop(clean1.index,axis=0)\n",
    "# it will remove all the data with the indexes in axis 0(row wise)\n",
    "data = data.drop(clean2.index,axis=0)"
   ]
  },
  {
   "cell_type": "code",
   "execution_count": 8,
   "id": "28fb3975",
   "metadata": {},
   "outputs": [
    {
     "name": "stdout",
     "output_type": "stream",
     "text": [
      "Cleaned Data Description : \n"
     ]
    },
    {
     "data": {
      "text/html": [
       "<div>\n",
       "<style scoped>\n",
       "    .dataframe tbody tr th:only-of-type {\n",
       "        vertical-align: middle;\n",
       "    }\n",
       "\n",
       "    .dataframe tbody tr th {\n",
       "        vertical-align: top;\n",
       "    }\n",
       "\n",
       "    .dataframe thead th {\n",
       "        text-align: right;\n",
       "    }\n",
       "</style>\n",
       "<table border=\"1\" class=\"dataframe\">\n",
       "  <thead>\n",
       "    <tr style=\"text-align: right;\">\n",
       "      <th></th>\n",
       "      <th>Year</th>\n",
       "      <th>Month</th>\n",
       "      <th>Day</th>\n",
       "      <th>Hour</th>\n",
       "      <th>Dew Point</th>\n",
       "      <th>Temperature</th>\n",
       "      <th>Pressure</th>\n",
       "      <th>Relative Humidity</th>\n",
       "      <th>Wind Direction</th>\n",
       "      <th>Wind Speed</th>\n",
       "      <th>Solar Radiation (GHI)</th>\n",
       "    </tr>\n",
       "  </thead>\n",
       "  <tbody>\n",
       "    <tr>\n",
       "      <th>count</th>\n",
       "      <td>9490.000000</td>\n",
       "      <td>9490.000000</td>\n",
       "      <td>9490.000000</td>\n",
       "      <td>9490.000000</td>\n",
       "      <td>9490.000000</td>\n",
       "      <td>9490.000000</td>\n",
       "      <td>9490.000000</td>\n",
       "      <td>9490.000000</td>\n",
       "      <td>9490.000000</td>\n",
       "      <td>9490.000000</td>\n",
       "      <td>9490.000000</td>\n",
       "    </tr>\n",
       "    <tr>\n",
       "      <th>mean</th>\n",
       "      <td>2011.500000</td>\n",
       "      <td>6.526027</td>\n",
       "      <td>15.720548</td>\n",
       "      <td>12.000000</td>\n",
       "      <td>11.172603</td>\n",
       "      <td>29.843403</td>\n",
       "      <td>979.837013</td>\n",
       "      <td>41.346867</td>\n",
       "      <td>192.621930</td>\n",
       "      <td>2.404642</td>\n",
       "      <td>433.934668</td>\n",
       "    </tr>\n",
       "    <tr>\n",
       "      <th>std</th>\n",
       "      <td>0.500026</td>\n",
       "      <td>3.448033</td>\n",
       "      <td>8.796710</td>\n",
       "      <td>3.741855</td>\n",
       "      <td>11.204963</td>\n",
       "      <td>8.272602</td>\n",
       "      <td>6.183468</td>\n",
       "      <td>25.653292</td>\n",
       "      <td>98.401266</td>\n",
       "      <td>1.241931</td>\n",
       "      <td>307.352650</td>\n",
       "    </tr>\n",
       "    <tr>\n",
       "      <th>min</th>\n",
       "      <td>2011.000000</td>\n",
       "      <td>1.000000</td>\n",
       "      <td>1.000000</td>\n",
       "      <td>6.000000</td>\n",
       "      <td>-28.000000</td>\n",
       "      <td>5.063506</td>\n",
       "      <td>964.755859</td>\n",
       "      <td>0.921771</td>\n",
       "      <td>0.034660</td>\n",
       "      <td>0.030113</td>\n",
       "      <td>0.000000</td>\n",
       "    </tr>\n",
       "    <tr>\n",
       "      <th>25%</th>\n",
       "      <td>2011.000000</td>\n",
       "      <td>4.000000</td>\n",
       "      <td>8.000000</td>\n",
       "      <td>9.000000</td>\n",
       "      <td>2.000000</td>\n",
       "      <td>24.991642</td>\n",
       "      <td>974.409988</td>\n",
       "      <td>18.638580</td>\n",
       "      <td>98.280884</td>\n",
       "      <td>1.488960</td>\n",
       "      <td>148.000000</td>\n",
       "    </tr>\n",
       "    <tr>\n",
       "      <th>50%</th>\n",
       "      <td>2011.500000</td>\n",
       "      <td>7.000000</td>\n",
       "      <td>16.000000</td>\n",
       "      <td>12.000000</td>\n",
       "      <td>11.000000</td>\n",
       "      <td>30.117739</td>\n",
       "      <td>980.606934</td>\n",
       "      <td>39.359365</td>\n",
       "      <td>230.102280</td>\n",
       "      <td>2.246798</td>\n",
       "      <td>446.000000</td>\n",
       "    </tr>\n",
       "    <tr>\n",
       "      <th>75%</th>\n",
       "      <td>2012.000000</td>\n",
       "      <td>10.000000</td>\n",
       "      <td>23.000000</td>\n",
       "      <td>15.000000</td>\n",
       "      <td>22.000000</td>\n",
       "      <td>34.920360</td>\n",
       "      <td>985.049332</td>\n",
       "      <td>61.814032</td>\n",
       "      <td>258.325935</td>\n",
       "      <td>3.153406</td>\n",
       "      <td>693.000000</td>\n",
       "    </tr>\n",
       "    <tr>\n",
       "      <th>max</th>\n",
       "      <td>2012.000000</td>\n",
       "      <td>12.000000</td>\n",
       "      <td>31.000000</td>\n",
       "      <td>18.000000</td>\n",
       "      <td>27.000000</td>\n",
       "      <td>52.157927</td>\n",
       "      <td>993.353210</td>\n",
       "      <td>100.000000</td>\n",
       "      <td>359.821167</td>\n",
       "      <td>7.287084</td>\n",
       "      <td>1001.000000</td>\n",
       "    </tr>\n",
       "  </tbody>\n",
       "</table>\n",
       "</div>"
      ],
      "text/plain": [
       "              Year        Month          Day         Hour    Dew Point  \\\n",
       "count  9490.000000  9490.000000  9490.000000  9490.000000  9490.000000   \n",
       "mean   2011.500000     6.526027    15.720548    12.000000    11.172603   \n",
       "std       0.500026     3.448033     8.796710     3.741855    11.204963   \n",
       "min    2011.000000     1.000000     1.000000     6.000000   -28.000000   \n",
       "25%    2011.000000     4.000000     8.000000     9.000000     2.000000   \n",
       "50%    2011.500000     7.000000    16.000000    12.000000    11.000000   \n",
       "75%    2012.000000    10.000000    23.000000    15.000000    22.000000   \n",
       "max    2012.000000    12.000000    31.000000    18.000000    27.000000   \n",
       "\n",
       "       Temperature     Pressure  Relative Humidity  Wind Direction  \\\n",
       "count  9490.000000  9490.000000        9490.000000     9490.000000   \n",
       "mean     29.843403   979.837013          41.346867      192.621930   \n",
       "std       8.272602     6.183468          25.653292       98.401266   \n",
       "min       5.063506   964.755859           0.921771        0.034660   \n",
       "25%      24.991642   974.409988          18.638580       98.280884   \n",
       "50%      30.117739   980.606934          39.359365      230.102280   \n",
       "75%      34.920360   985.049332          61.814032      258.325935   \n",
       "max      52.157927   993.353210         100.000000      359.821167   \n",
       "\n",
       "        Wind Speed  Solar Radiation (GHI)  \n",
       "count  9490.000000            9490.000000  \n",
       "mean      2.404642             433.934668  \n",
       "std       1.241931             307.352650  \n",
       "min       0.030113               0.000000  \n",
       "25%       1.488960             148.000000  \n",
       "50%       2.246798             446.000000  \n",
       "75%       3.153406             693.000000  \n",
       "max       7.287084            1001.000000  "
      ]
     },
     "execution_count": 8,
     "metadata": {},
     "output_type": "execute_result"
    }
   ],
   "source": [
    "print(\"Cleaned Data Description : \")\n",
    "data.describe()"
   ]
  },
  {
   "cell_type": "code",
   "execution_count": 9,
   "id": "ad76c0b9",
   "metadata": {},
   "outputs": [
    {
     "name": "stdout",
     "output_type": "stream",
     "text": [
      "Cleaned Data :\n"
     ]
    },
    {
     "data": {
      "text/html": [
       "<div>\n",
       "<style scoped>\n",
       "    .dataframe tbody tr th:only-of-type {\n",
       "        vertical-align: middle;\n",
       "    }\n",
       "\n",
       "    .dataframe tbody tr th {\n",
       "        vertical-align: top;\n",
       "    }\n",
       "\n",
       "    .dataframe thead th {\n",
       "        text-align: right;\n",
       "    }\n",
       "</style>\n",
       "<table border=\"1\" class=\"dataframe\">\n",
       "  <thead>\n",
       "    <tr style=\"text-align: right;\">\n",
       "      <th></th>\n",
       "      <th>Year</th>\n",
       "      <th>Month</th>\n",
       "      <th>Day</th>\n",
       "      <th>Hour</th>\n",
       "      <th>Dew Point</th>\n",
       "      <th>Temperature</th>\n",
       "      <th>Pressure</th>\n",
       "      <th>Relative Humidity</th>\n",
       "      <th>Wind Direction</th>\n",
       "      <th>Wind Speed</th>\n",
       "      <th>Solar Radiation (GHI)</th>\n",
       "    </tr>\n",
       "  </thead>\n",
       "  <tbody>\n",
       "    <tr>\n",
       "      <th>6</th>\n",
       "      <td>2011</td>\n",
       "      <td>1</td>\n",
       "      <td>1</td>\n",
       "      <td>6</td>\n",
       "      <td>2</td>\n",
       "      <td>7.806705</td>\n",
       "      <td>986.249146</td>\n",
       "      <td>67.093181</td>\n",
       "      <td>95.835983</td>\n",
       "      <td>1.815175</td>\n",
       "      <td>0</td>\n",
       "    </tr>\n",
       "    <tr>\n",
       "      <th>7</th>\n",
       "      <td>2011</td>\n",
       "      <td>1</td>\n",
       "      <td>1</td>\n",
       "      <td>7</td>\n",
       "      <td>2</td>\n",
       "      <td>9.036408</td>\n",
       "      <td>987.038940</td>\n",
       "      <td>64.035483</td>\n",
       "      <td>105.198181</td>\n",
       "      <td>1.615310</td>\n",
       "      <td>0</td>\n",
       "    </tr>\n",
       "    <tr>\n",
       "      <th>8</th>\n",
       "      <td>2011</td>\n",
       "      <td>1</td>\n",
       "      <td>1</td>\n",
       "      <td>8</td>\n",
       "      <td>3</td>\n",
       "      <td>12.158280</td>\n",
       "      <td>987.897400</td>\n",
       "      <td>55.105656</td>\n",
       "      <td>113.317665</td>\n",
       "      <td>1.439088</td>\n",
       "      <td>159</td>\n",
       "    </tr>\n",
       "    <tr>\n",
       "      <th>9</th>\n",
       "      <td>2011</td>\n",
       "      <td>1</td>\n",
       "      <td>1</td>\n",
       "      <td>9</td>\n",
       "      <td>3</td>\n",
       "      <td>14.965301</td>\n",
       "      <td>988.211914</td>\n",
       "      <td>47.166938</td>\n",
       "      <td>117.327606</td>\n",
       "      <td>1.063374</td>\n",
       "      <td>363</td>\n",
       "    </tr>\n",
       "    <tr>\n",
       "      <th>10</th>\n",
       "      <td>2011</td>\n",
       "      <td>1</td>\n",
       "      <td>1</td>\n",
       "      <td>10</td>\n",
       "      <td>3</td>\n",
       "      <td>18.956082</td>\n",
       "      <td>988.054504</td>\n",
       "      <td>36.747087</td>\n",
       "      <td>72.488327</td>\n",
       "      <td>0.545695</td>\n",
       "      <td>533</td>\n",
       "    </tr>\n",
       "  </tbody>\n",
       "</table>\n",
       "</div>"
      ],
      "text/plain": [
       "    Year  Month  Day  Hour  Dew Point  Temperature    Pressure  \\\n",
       "6   2011      1    1     6          2     7.806705  986.249146   \n",
       "7   2011      1    1     7          2     9.036408  987.038940   \n",
       "8   2011      1    1     8          3    12.158280  987.897400   \n",
       "9   2011      1    1     9          3    14.965301  988.211914   \n",
       "10  2011      1    1    10          3    18.956082  988.054504   \n",
       "\n",
       "    Relative Humidity  Wind Direction  Wind Speed  Solar Radiation (GHI)  \n",
       "6           67.093181       95.835983    1.815175                      0  \n",
       "7           64.035483      105.198181    1.615310                      0  \n",
       "8           55.105656      113.317665    1.439088                    159  \n",
       "9           47.166938      117.327606    1.063374                    363  \n",
       "10          36.747087       72.488327    0.545695                    533  "
      ]
     },
     "execution_count": 9,
     "metadata": {},
     "output_type": "execute_result"
    }
   ],
   "source": [
    "print(\"Cleaned Data :\")\n",
    "data.head(5)"
   ]
  },
  {
   "cell_type": "code",
   "execution_count": 10,
   "id": "4b68ae78",
   "metadata": {},
   "outputs": [
    {
     "data": {
      "text/plain": [
       "(9490, 11)"
      ]
     },
     "execution_count": 10,
     "metadata": {},
     "output_type": "execute_result"
    }
   ],
   "source": [
    "data.shape"
   ]
  },
  {
   "cell_type": "markdown",
   "id": "511f109a",
   "metadata": {},
   "source": [
    "## Preparing Training And Testing Data"
   ]
  },
  {
   "cell_type": "code",
   "execution_count": 11,
   "id": "aa84b2a9",
   "metadata": {},
   "outputs": [],
   "source": [
    "x = data.iloc[ : , 4:10].values\n",
    "y = data.iloc[ : , 10].values\n",
    "\n",
    "y = y.reshape(-1, 1)\n",
    "from sklearn.model_selection import train_test_split\n",
    "x_train, x_test , y_train , y_test = train_test_split(x,y,test_size = 0.2 , random_state = 0)"
   ]
  },
  {
   "cell_type": "code",
   "execution_count": 12,
   "id": "029a28e2",
   "metadata": {},
   "outputs": [
    {
     "name": "stdout",
     "output_type": "stream",
     "text": [
      "[[ 23.          28.95276574 974.4337769   72.00650744 230.5746765\n",
      "    3.48527336]\n",
      " [  7.          31.45725588 982.7936401   21.82772614  43.92575455\n",
      "    1.79098237]\n",
      " [  5.          45.90862693 977.0198364    9.19367135 256.100769\n",
      "    2.31313491]\n",
      " ...\n",
      " [  1.          17.1015701  988.6531982   34.68437781   9.09429932\n",
      "    1.42941236]\n",
      " [ 24.          25.72412262 975.875       95.01792758 211.7336121\n",
      "    2.95700026]\n",
      " [ 25.          28.49819406 974.4430542   83.5370614  239.0466156\n",
      "    2.56590128]]\n"
     ]
    }
   ],
   "source": [
    "print(x_train)"
   ]
  },
  {
   "cell_type": "code",
   "execution_count": 13,
   "id": "46795b6a",
   "metadata": {},
   "outputs": [
    {
     "name": "stdout",
     "output_type": "stream",
     "text": [
      "[[178]\n",
      " [602]\n",
      " [830]\n",
      " ...\n",
      " [231]\n",
      " [162]\n",
      " [384]]\n"
     ]
    }
   ],
   "source": [
    "print(y_train)"
   ]
  },
  {
   "cell_type": "markdown",
   "id": "18366afc",
   "metadata": {},
   "source": [
    "## Standardizing Data"
   ]
  },
  {
   "cell_type": "code",
   "execution_count": 14,
   "id": "4103db5f",
   "metadata": {},
   "outputs": [],
   "source": [
    "from sklearn.preprocessing import StandardScaler\n",
    "sc_x= StandardScaler()\n",
    "x_train = sc_x.fit_transform(x_train)\n",
    "x_test = sc_x.fit_transform (x_test)\n",
    "sc_y = StandardScaler()\n",
    "y_train = sc_y.fit_transform(y_train)"
   ]
  },
  {
   "cell_type": "code",
   "execution_count": 15,
   "id": "0804c2b6",
   "metadata": {},
   "outputs": [
    {
     "name": "stdout",
     "output_type": "stream",
     "text": [
      "[[ 1.05968611 -0.10596836 -0.86953246  1.20221031  0.39135863  0.85990992]\n",
      " [-0.37392147  0.19583916  0.47710333 -0.76144896 -1.50792046 -0.50344039]\n",
      " [-0.55312242  1.93732438 -0.45296102 -1.2558607   0.65110389 -0.08327831]\n",
      " ...\n",
      " [-0.91152432 -1.53411535  1.4209813  -0.25832627 -1.86235409 -0.79438603]\n",
      " [ 1.14928659 -0.49504108 -0.63737524  2.10272218  0.19963805  0.43482279]\n",
      " [ 1.23888706 -0.16074724 -0.86803804  1.65343846  0.47756634  0.12011598]]\n"
     ]
    }
   ],
   "source": [
    "print(x_train)"
   ]
  },
  {
   "cell_type": "code",
   "execution_count": 16,
   "id": "a67c78d1",
   "metadata": {},
   "outputs": [
    {
     "name": "stdout",
     "output_type": "stream",
     "text": [
      "[[-0.83425739]\n",
      " [ 0.55048309]\n",
      " [ 1.29510768]\n",
      " ...\n",
      " [-0.66116483]\n",
      " [-0.88651175]\n",
      " [-0.16148254]]\n"
     ]
    }
   ],
   "source": [
    "print(y_train)"
   ]
  },
  {
   "cell_type": "markdown",
   "id": "f0c98370",
   "metadata": {},
   "source": [
    "# <font color = \"green\">K - Means with 6 Clusters </font>"
   ]
  },
  {
   "cell_type": "code",
   "execution_count": 17,
   "id": "b92cfc23",
   "metadata": {},
   "outputs": [
    {
     "name": "stderr",
     "output_type": "stream",
     "text": [
      "C:\\Users\\hudai\\anaconda3\\Lib\\site-packages\\sklearn\\cluster\\_kmeans.py:1412: FutureWarning: The default value of `n_init` will change from 10 to 'auto' in 1.4. Set the value of `n_init` explicitly to suppress the warning\n",
      "  super()._check_params_vs_input(X, default_n_init=10)\n"
     ]
    }
   ],
   "source": [
    "from sklearn.cluster import KMeans\n",
    "\n",
    "kmeans = KMeans(n_clusters = 6 , random_state = 0 )\n",
    "kmeans = kmeans.fit(x_train)"
   ]
  },
  {
   "cell_type": "code",
   "execution_count": 18,
   "id": "81682f18",
   "metadata": {},
   "outputs": [
    {
     "name": "stdout",
     "output_type": "stream",
     "text": [
      "Labels : [2 0 1 ... 3 2 2]\n",
      "\n",
      "\n",
      " Cluster Centroids :\n",
      " [[-0.61067852 -0.22953897  0.85296425 -0.56900073 -1.34754782 -0.69944564]\n",
      " [-1.06683181  0.69953201  0.04271687 -1.16744214  0.83124334  0.01402357]\n",
      " [ 1.18732212  0.07003915 -0.93122377  1.27431066  0.25433125 -0.09787964]\n",
      " [-0.65151081 -1.64656972  1.18139577  0.26109687 -1.09473473 -0.02650561]\n",
      " [ 0.14674628 -0.38089807  0.65185994  0.19276176  0.69268634 -0.79074361]\n",
      " [ 0.40401817  1.04788338 -1.07514525 -0.40467305  0.50974261  1.49618357]]\n"
     ]
    }
   ],
   "source": [
    "# view predict class\n",
    "labels = kmeans.labels_\n",
    "print(\"Labels :\",labels)\n",
    "\n",
    "# view cluster centers\n",
    "cluster_centers = kmeans.cluster_centers_\n",
    "print(\"\\n\\n Cluster Centroids :\\n\",cluster_centers)"
   ]
  },
  {
   "cell_type": "markdown",
   "id": "c62f6ce2",
   "metadata": {},
   "source": [
    "Here from above we can see six different planes (Dew Point\tTemperature\tPressure\tRelative Humidity\tWind Direction\tWind Speed) because when we are passing 6 data points for traing the data and now we are having six dimensional space where we have six clusters now its hard to visualise"
   ]
  },
  {
   "cell_type": "markdown",
   "id": "75a4521b",
   "metadata": {},
   "source": [
    "## <font color=\"green\">Applying PCA Dimensionality Reduction</font>"
   ]
  },
  {
   "cell_type": "code",
   "execution_count": 19,
   "id": "6c248990",
   "metadata": {},
   "outputs": [],
   "source": [
    "from sklearn.decomposition import PCA\n",
    "\n",
    "pca=PCA(n_components=2) .fit(x_train) .transform(x_train)"
   ]
  },
  {
   "cell_type": "code",
   "execution_count": 20,
   "id": "8bdfd6d4",
   "metadata": {},
   "outputs": [
    {
     "data": {
      "text/plain": [
       "array([[-1.59837425, -1.04649685],\n",
       "       [ 1.2422458 ,  0.2751212 ],\n",
       "       [-0.79398024,  2.07624203],\n",
       "       ...,\n",
       "       [ 2.88500539, -0.70662158],\n",
       "       [-1.31961631, -2.03068811],\n",
       "       [-1.55187659, -1.6325982 ]])"
      ]
     },
     "execution_count": 20,
     "metadata": {},
     "output_type": "execute_result"
    }
   ],
   "source": [
    "pca"
   ]
  },
  {
   "cell_type": "code",
   "execution_count": 21,
   "id": "fda424cd",
   "metadata": {},
   "outputs": [
    {
     "data": {
      "text/plain": [
       "7592"
      ]
     },
     "execution_count": 21,
     "metadata": {},
     "output_type": "execute_result"
    }
   ],
   "source": [
    "pca.shape[0]"
   ]
  },
  {
   "cell_type": "code",
   "execution_count": 22,
   "id": "d3eabdbe",
   "metadata": {},
   "outputs": [
    {
     "data": {
      "text/plain": [
       "7592"
      ]
     },
     "execution_count": 22,
     "metadata": {},
     "output_type": "execute_result"
    }
   ],
   "source": [
    "len(labels)"
   ]
  },
  {
   "cell_type": "code",
   "execution_count": 23,
   "id": "6628ca9d",
   "metadata": {},
   "outputs": [
    {
     "data": {
      "text/plain": [
       "array([[ 1.05968611, -0.10596836, -0.86953246,  1.20221031,  0.39135863,\n",
       "         0.85990992],\n",
       "       [-0.37392147,  0.19583916,  0.47710333, -0.76144896, -1.50792046,\n",
       "        -0.50344039],\n",
       "       [-0.55312242,  1.93732438, -0.45296102, -1.2558607 ,  0.65110389,\n",
       "        -0.08327831],\n",
       "       ...,\n",
       "       [-0.91152432, -1.53411535,  1.4209813 , -0.25832627, -1.86235409,\n",
       "        -0.79438603],\n",
       "       [ 1.14928659, -0.49504108, -0.63737524,  2.10272218,  0.19963805,\n",
       "         0.43482279],\n",
       "       [ 1.23888706, -0.16074724, -0.86803804,  1.65343846,  0.47756634,\n",
       "         0.12011598]])"
      ]
     },
     "execution_count": 23,
     "metadata": {},
     "output_type": "execute_result"
    }
   ],
   "source": [
    "x_train"
   ]
  },
  {
   "cell_type": "markdown",
   "id": "00eeb34d",
   "metadata": {},
   "source": [
    "As you can see in x_train is of 6 dimension but with the help of PCA we converted it into 2 dimension"
   ]
  },
  {
   "cell_type": "markdown",
   "id": "58419669",
   "metadata": {},
   "source": [
    "## Visualisation"
   ]
  },
  {
   "cell_type": "code",
   "execution_count": 24,
   "id": "f223e24c",
   "metadata": {},
   "outputs": [
    {
     "data": {
      "image/png": "[encoded data removed]",
      "text/plain": [
       "<Figure size 640x480 with 1 Axes>"
      ]
     },
     "metadata": {},
     "output_type": "display_data"
    }
   ],
   "source": [
    "for i in range(pca.shape[0]):\n",
    "    if kmeans.labels_[i] == 0:\n",
    "        c1_6 = plt.scatter(pca[i, 0], pca[i, 1], c=\"orange\", marker=\"^\")\n",
    "        \n",
    "    elif kmeans.labels_[i] == 1:\n",
    "        c2_6 = plt.scatter(pca[i, 0], pca[i, 1], c=\"g\", marker=\"o\")\n",
    "        \n",
    "    elif kmeans.labels_[i] == 2:\n",
    "        c3_6 = plt.scatter(pca[i, 0], pca[i, 1], c=\"b\", marker=\"^\")\n",
    "        \n",
    "    elif kmeans.labels_[i] == 3:\n",
    "        c4_6 = plt.scatter(pca[i, 0], pca[i, 1], c=\"yellow\", marker=\"*\")\n",
    "        \n",
    "    elif kmeans.labels_[i] == 4:\n",
    "        c5_6 = plt.scatter(pca[i, 0], pca[i, 1], c=\"cyan\", marker=\">\")\n",
    "        \n",
    "    elif kmeans.labels_[i] == 5:\n",
    "        c6_6 = plt.scatter(pca[i, 0], pca[i, 1], c=\"red\", marker=\"+\")\n",
    "\n",
    "plt.rcParams[\"figure.figsize\"] = (12, 10)\n",
    "plt.legend([c1_6, c2_6, c3_6, c4_6, c5_6, c6_6], [\"Cluster 0\", \"Cluster 1\", \"Cluster 2\", \"Cluster 3\", \"Cluster 4\", \"Cluster 5\"])\n",
    "plt.title(\"Kmeans clustering with 6 clusters\")\n",
    "plt.show()\n"
   ]
  },
  {
   "cell_type": "markdown",
   "id": "65686b10",
   "metadata": {},
   "source": [
    "for all the number of rows we are running a loop so it will go to the pca loop and we have to assign labels because we have visualise the number of clusters so here (we are having labels for each row)"
   ]
  }
 ],
 "metadata": {
  "kernelspec": {
   "display_name": "Python 3 (ipykernel)",
   "language": "python",
   "name": "python3"
  },
  "language_info": {
   "codemirror_mode": {
    "name": "ipython",
    "version": 3
   },
   "file_extension": ".py",
   "mimetype": "text/x-python",
   "name": "python",
   "nbconvert_exporter": "python",
   "pygments_lexer": "ipython3",
   "version": "3.11.4"
  }
 },
 "nbformat": 4,
 "nbformat_minor": 5
}
